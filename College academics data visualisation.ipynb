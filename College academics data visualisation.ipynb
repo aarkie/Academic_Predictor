{
 "cells": [
  {
   "cell_type": "code",
   "execution_count": 1,
   "metadata": {},
   "outputs": [],
   "source": [
    "import pandas as pd\n",
    "import matplotlib.pyplot as plt\n",
    "import seaborn as sns\n",
    "sns.set()"
   ]
  },
  {
   "cell_type": "code",
   "execution_count": 4,
   "metadata": {
    "scrolled": true
   },
   "outputs": [
    {
     "data": {
      "text/html": [
       "<div>\n",
       "<style scoped>\n",
       "    .dataframe tbody tr th:only-of-type {\n",
       "        vertical-align: middle;\n",
       "    }\n",
       "\n",
       "    .dataframe tbody tr th {\n",
       "        vertical-align: top;\n",
       "    }\n",
       "\n",
       "    .dataframe thead th {\n",
       "        text-align: right;\n",
       "    }\n",
       "</style>\n",
       "<table border=\"1\" class=\"dataframe\">\n",
       "  <thead>\n",
       "    <tr style=\"text-align: right;\">\n",
       "      <th></th>\n",
       "      <th>attendance</th>\n",
       "      <th>ta_relation</th>\n",
       "      <th>lab</th>\n",
       "      <th>tut</th>\n",
       "      <th>quiz</th>\n",
       "      <th>midsem</th>\n",
       "      <th>endsem</th>\n",
       "      <th>branch_change</th>\n",
       "      <th>attention_class</th>\n",
       "      <th>study_preference</th>\n",
       "      <th>material_preference</th>\n",
       "      <th>branch_interest</th>\n",
       "      <th>core</th>\n",
       "      <th>branch</th>\n",
       "      <th>dropper</th>\n",
       "      <th>gender</th>\n",
       "      <th>cpi</th>\n",
       "    </tr>\n",
       "  </thead>\n",
       "  <tbody>\n",
       "    <tr>\n",
       "      <th>0</th>\n",
       "      <td>Below 90?</td>\n",
       "      <td>4</td>\n",
       "      <td>4</td>\n",
       "      <td>3</td>\n",
       "      <td>5</td>\n",
       "      <td>5</td>\n",
       "      <td>5</td>\n",
       "      <td>2</td>\n",
       "      <td>1</td>\n",
       "      <td>Individual</td>\n",
       "      <td>Online content</td>\n",
       "      <td>3</td>\n",
       "      <td>Non-Core</td>\n",
       "      <td>BSBE</td>\n",
       "      <td>No</td>\n",
       "      <td>Male</td>\n",
       "      <td>7.56</td>\n",
       "    </tr>\n",
       "    <tr>\n",
       "      <th>1</th>\n",
       "      <td>Above 90?</td>\n",
       "      <td>4</td>\n",
       "      <td>4</td>\n",
       "      <td>3</td>\n",
       "      <td>4</td>\n",
       "      <td>5</td>\n",
       "      <td>5</td>\n",
       "      <td>4</td>\n",
       "      <td>3</td>\n",
       "      <td>Individual</td>\n",
       "      <td>Online content</td>\n",
       "      <td>4</td>\n",
       "      <td>Core</td>\n",
       "      <td>BSBE</td>\n",
       "      <td>No</td>\n",
       "      <td>Male</td>\n",
       "      <td>7.40</td>\n",
       "    </tr>\n",
       "    <tr>\n",
       "      <th>2</th>\n",
       "      <td>Below 90?</td>\n",
       "      <td>4</td>\n",
       "      <td>4</td>\n",
       "      <td>3</td>\n",
       "      <td>5</td>\n",
       "      <td>5</td>\n",
       "      <td>5</td>\n",
       "      <td>2</td>\n",
       "      <td>4</td>\n",
       "      <td>Group Study</td>\n",
       "      <td>Online content</td>\n",
       "      <td>4</td>\n",
       "      <td>Non-Core</td>\n",
       "      <td>CL</td>\n",
       "      <td>No</td>\n",
       "      <td>Male</td>\n",
       "      <td>7.20</td>\n",
       "    </tr>\n",
       "    <tr>\n",
       "      <th>3</th>\n",
       "      <td>Below 90?</td>\n",
       "      <td>4</td>\n",
       "      <td>4</td>\n",
       "      <td>3</td>\n",
       "      <td>5</td>\n",
       "      <td>5</td>\n",
       "      <td>5</td>\n",
       "      <td>2</td>\n",
       "      <td>4</td>\n",
       "      <td>Group Study</td>\n",
       "      <td>Online content</td>\n",
       "      <td>4</td>\n",
       "      <td>Non-Core</td>\n",
       "      <td>CL</td>\n",
       "      <td>No</td>\n",
       "      <td>Male</td>\n",
       "      <td>7.20</td>\n",
       "    </tr>\n",
       "    <tr>\n",
       "      <th>4</th>\n",
       "      <td>Above 90?</td>\n",
       "      <td>5</td>\n",
       "      <td>5</td>\n",
       "      <td>4</td>\n",
       "      <td>4</td>\n",
       "      <td>5</td>\n",
       "      <td>5</td>\n",
       "      <td>3</td>\n",
       "      <td>5</td>\n",
       "      <td>Group Study</td>\n",
       "      <td>Books</td>\n",
       "      <td>4</td>\n",
       "      <td>Non-Core</td>\n",
       "      <td>ME</td>\n",
       "      <td>No</td>\n",
       "      <td>Male</td>\n",
       "      <td>7.70</td>\n",
       "    </tr>\n",
       "  </tbody>\n",
       "</table>\n",
       "</div>"
      ],
      "text/plain": [
       "  attendance  ta_relation  lab  tut  quiz  midsem  endsem  branch_change  \\\n",
       "0  Below 90?            4    4    3     5       5       5              2   \n",
       "1  Above 90?            4    4    3     4       5       5              4   \n",
       "2  Below 90?            4    4    3     5       5       5              2   \n",
       "3  Below 90?            4    4    3     5       5       5              2   \n",
       "4  Above 90?            5    5    4     4       5       5              3   \n",
       "\n",
       "   attention_class study_preference material_preference  branch_interest  \\\n",
       "0                1       Individual      Online content                3   \n",
       "1                3       Individual      Online content                4   \n",
       "2                4      Group Study      Online content                4   \n",
       "3                4      Group Study      Online content                4   \n",
       "4                5      Group Study               Books                4   \n",
       "\n",
       "       core branch dropper gender   cpi  \n",
       "0  Non-Core   BSBE      No   Male  7.56  \n",
       "1      Core   BSBE      No   Male  7.40  \n",
       "2  Non-Core     CL      No   Male  7.20  \n",
       "3  Non-Core     CL      No   Male  7.20  \n",
       "4  Non-Core     ME      No   Male  7.70  "
      ]
     },
     "execution_count": 4,
     "metadata": {},
     "output_type": "execute_result"
    }
   ],
   "source": [
    "raw_data = pd.read_csv('College academics.csv')\n",
    "raw_data.head()"
   ]
  },
  {
   "cell_type": "code",
   "execution_count": 28,
   "metadata": {},
   "outputs": [
    {
     "data": {
      "image/png": "[encoded data removed]",
      "text/plain": [
       "<Figure size 432x288 with 1 Axes>"
      ]
     },
     "metadata": {
      "needs_background": "light"
     },
     "output_type": "display_data"
    }
   ],
   "source": [
    "ax = sns.distplot(raw_data['cpi'],hist = False, kde_kws={\"shade\": True},color= 'red')\n"
   ]
  },
  {
   "cell_type": "code",
   "execution_count": 29,
   "metadata": {},
   "outputs": [],
   "source": [
    "data = raw_data.copy()\n"
   ]
  },
  {
   "cell_type": "code",
   "execution_count": 30,
   "metadata": {},
   "outputs": [
    {
     "data": {
      "text/plain": [
       "array(['Below 90?', 'Above 90?', 'Below 75?', 'Below 50?'], dtype=object)"
      ]
     },
     "execution_count": 30,
     "metadata": {},
     "output_type": "execute_result"
    }
   ],
   "source": [
    "data['attendance'].unique() "
   ]
  },
  {
   "cell_type": "code",
   "execution_count": 40,
   "metadata": {},
   "outputs": [
    {
     "data": {
      "text/html": [
       "<div>\n",
       "<style scoped>\n",
       "    .dataframe tbody tr th:only-of-type {\n",
       "        vertical-align: middle;\n",
       "    }\n",
       "\n",
       "    .dataframe tbody tr th {\n",
       "        vertical-align: top;\n",
       "    }\n",
       "\n",
       "    .dataframe thead th {\n",
       "        text-align: right;\n",
       "    }\n",
       "</style>\n",
       "<table border=\"1\" class=\"dataframe\">\n",
       "  <thead>\n",
       "    <tr style=\"text-align: right;\">\n",
       "      <th></th>\n",
       "      <th>cpi</th>\n",
       "    </tr>\n",
       "    <tr>\n",
       "      <th>attendance</th>\n",
       "      <th></th>\n",
       "    </tr>\n",
       "  </thead>\n",
       "  <tbody>\n",
       "    <tr>\n",
       "      <th>Below 50?</th>\n",
       "      <td>6.900000</td>\n",
       "    </tr>\n",
       "    <tr>\n",
       "      <th>Below 75?</th>\n",
       "      <td>7.432400</td>\n",
       "    </tr>\n",
       "    <tr>\n",
       "      <th>Below 90?</th>\n",
       "      <td>7.449836</td>\n",
       "    </tr>\n",
       "    <tr>\n",
       "      <th>Above 90?</th>\n",
       "      <td>8.108836</td>\n",
       "    </tr>\n",
       "  </tbody>\n",
       "</table>\n",
       "</div>"
      ],
      "text/plain": [
       "                 cpi\n",
       "attendance          \n",
       "Below 50?   6.900000\n",
       "Below 75?   7.432400\n",
       "Below 90?   7.449836\n",
       "Above 90?   8.108836"
      ]
     },
     "execution_count": 40,
     "metadata": {},
     "output_type": "execute_result"
    }
   ],
   "source": [
    "mean = pd.DataFrame(data.groupby('attendance').mean()['cpi'])\n",
    "mean.sort_values(by = ['cpi'], inplace = True)\n",
    "mean"
   ]
  },
  {
   "cell_type": "code",
   "execution_count": 54,
   "metadata": {},
   "outputs": [],
   "source": [
    "attendance_above90 = data[data['attendance'] == 'Above 90?']\n",
    "attendance_below90 = data[data['attendance'] != 'Above 90?']"
   ]
  },
  {
   "cell_type": "code",
   "execution_count": 56,
   "metadata": {},
   "outputs": [
    {
     "data": {
      "text/plain": [
       "<matplotlib.axes._subplots.AxesSubplot at 0x7ff34bef4210>"
      ]
     },
     "execution_count": 56,
     "metadata": {},
     "output_type": "execute_result"
    },
    {
     "data": {
      "image/png": "[encoded data removed]",
      "text/plain": [
       "<Figure size 432x288 with 1 Axes>"
      ]
     },
     "metadata": {
      "needs_background": "light"
     },
     "output_type": "display_data"
    }
   ],
   "source": [
    "sns.distplot(attendance_above90['cpi'],kde_kws={\"shade\": True}, hist = False)\n",
    "sns.distplot(attendance_below90['cpi'],kde_kws={\"shade\": True}, hist = False)"
   ]
  },
  {
   "cell_type": "code",
   "execution_count": null,
   "metadata": {},
   "outputs": [],
   "source": []
  }
 ],
 "metadata": {
  "kernelspec": {
   "display_name": "Python 3",
   "language": "python",
   "name": "python3"
  },
  "language_info": {
   "codemirror_mode": {
    "name": "ipython",
    "version": 3
   },
   "file_extension": ".py",
   "mimetype": "text/x-python",
   "name": "python",
   "nbconvert_exporter": "python",
   "pygments_lexer": "ipython3",
   "version": "3.7.6"
  }
 },
 "nbformat": 4,
 "nbformat_minor": 4
}
